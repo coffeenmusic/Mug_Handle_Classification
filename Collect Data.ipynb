{
 "cells": [
  {
   "cell_type": "code",
   "execution_count": 21,
   "metadata": {
    "collapsed": true
   },
   "outputs": [],
   "source": [
    "import cv2\n",
    "from cv2 import *\n",
    "from tkinter import *\n",
    "from PIL import ImageTk, Image\n",
    "from time import sleep"
   ]
  },
  {
   "cell_type": "code",
   "execution_count": 22,
   "metadata": {
    "collapsed": true
   },
   "outputs": [],
   "source": [
    "cam = VideoCapture(0)\n",
    "if not(cam.isOpened()):\n",
    "    print('Error opening camera')"
   ]
  },
  {
   "cell_type": "code",
   "execution_count": 23,
   "metadata": {},
   "outputs": [
    {
     "data": {
      "text/plain": [
       "numpy.ndarray"
      ]
     },
     "execution_count": 23,
     "metadata": {},
     "output_type": "execute_result"
    }
   ],
   "source": [
    "s, img = cam.read()\n",
    "type(img)"
   ]
  },
  {
   "cell_type": "code",
   "execution_count": 24,
   "metadata": {
    "collapsed": true
   },
   "outputs": [],
   "source": [
    "def rotate_img(img, angle):\n",
    "    rows, cols, _ = img.shape\n",
    "    M = cv2.getRotationMatrix2D((cols/2,rows/2),angle,1)\n",
    "    return cv2.warpAffine(img, M, (cols,rows))"
   ]
  },
  {
   "cell_type": "code",
   "execution_count": 25,
   "metadata": {
    "collapsed": true
   },
   "outputs": [],
   "source": [
    "def display_img(img, window_name):\n",
    "    namedWindow(window_name, WINDOW_AUTOSIZE)\n",
    "    imshow(window_name, img)\n",
    "    waitKey(0)\n",
    "    destroyWindow(window_name)"
   ]
  },
  {
   "cell_type": "code",
   "execution_count": 26,
   "metadata": {
    "collapsed": true
   },
   "outputs": [],
   "source": [
    "rotated_img = rotate_img(img, 180)"
   ]
  },
  {
   "cell_type": "code",
   "execution_count": 10,
   "metadata": {
    "collapsed": true
   },
   "outputs": [],
   "source": [
    "if s:\n",
    "    display_img(rotated_img, \"Microwave\")"
   ]
  },
  {
   "cell_type": "code",
   "execution_count": 17,
   "metadata": {
    "collapsed": true
   },
   "outputs": [],
   "source": [
    "capture_delay = 0.5 # seconds\n",
    "window_name = \"Microwave Capture\"\n",
    "namedWindow(window_name, WINDOW_AUTOSIZE)\n",
    "for i in range(120):\n",
    "    s, img = cam.read()\n",
    "    if s:\n",
    "        rotated_img = rotate_img(img, 180)\n",
    "        imshow(window_name, rotated_img)\n",
    "        waitKey(1)\n",
    "        sleep(capture_delay)\n",
    "destroyWindow(window_name)    "
   ]
  },
  {
   "cell_type": "markdown",
   "metadata": {},
   "source": [
    "## Create GUI"
   ]
  },
  {
   "cell_type": "code",
   "execution_count": 44,
   "metadata": {
    "collapsed": true
   },
   "outputs": [],
   "source": [
    "def update_img():\n",
    "    s, img = cam.read()\n",
    "    if s:\n",
    "        rotated_img = rotate_img(img, 180)\n",
    "        camera = cv2.cvtColor(rotated_img, cv2.COLOR_BGR2RGB)\n",
    "    camera = Image.fromarray(camera)\n",
    "    camera = ImageTk.PhotoImage(camera)\n",
    "    display_img = Label(image=camera)\n",
    "    display_img.grid(row=0, columnspan=2)"
   ]
  },
  {
   "cell_type": "code",
   "execution_count": 43,
   "metadata": {},
   "outputs": [],
   "source": [
    "root = Tk()\n",
    "\n",
    "# Frames...............................\n",
    "btnRun = Button(root, text=\"Run\")\n",
    "btnRun.grid(row=2, column=0, sticky=N+S+E+W)\n",
    "\n",
    "btnUpdateImage = Button(root, text=\"Update Image\")\n",
    "btnUpdateImage.grid(row=2, column=1, sticky=N+S+E+W)\n",
    "\n",
    "btnFacingDoor = Button(root, text=\"Facing Door\")\n",
    "btnFacingDoor.grid(row=2, column=2, sticky=N+S+E+W)\n",
    "\n",
    "\n",
    "s, img = cam.read()\n",
    "rotated_img = rotate_img(img, 180)\n",
    "camera = cv2.cvtColor(rotated_img, cv2.COLOR_BGR2RGB)\n",
    "camera = Image.fromarray(camera)\n",
    "camera = ImageTk.PhotoImage(camera)\n",
    "display_img = Label(image=camera)\n",
    "display_img.grid(row=0, columnspan=2)\n",
    "\n",
    "\n",
    "root.mainloop()"
   ]
  },
  {
   "cell_type": "code",
   "execution_count": null,
   "metadata": {
    "collapsed": true
   },
   "outputs": [],
   "source": []
  }
 ],
 "metadata": {
  "kernelspec": {
   "display_name": "Python 3",
   "language": "python",
   "name": "python3"
  },
  "language_info": {
   "codemirror_mode": {
    "name": "ipython",
    "version": 3
   },
   "file_extension": ".py",
   "mimetype": "text/x-python",
   "name": "python",
   "nbconvert_exporter": "python",
   "pygments_lexer": "ipython3",
   "version": "3.5.3"
  }
 },
 "nbformat": 4,
 "nbformat_minor": 2
}
